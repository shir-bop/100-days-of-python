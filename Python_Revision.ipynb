{
  "nbformat": 4,
  "nbformat_minor": 0,
  "metadata": {
    "anaconda-cloud": {},
    "kernelspec": {
      "display_name": "Python 3",
      "language": "python",
      "name": "python3"
    },
    "language_info": {
      "codemirror_mode": {
        "name": "ipython",
        "version": 3
      },
      "file_extension": ".py",
      "mimetype": "text/x-python",
      "name": "python",
      "nbconvert_exporter": "python",
      "pygments_lexer": "ipython3",
      "version": "3.8.3"
    },
    "colab": {
      "name": "Python Revision",
      "provenance": []
    }
  },
  "cells": [
    {
      "cell_type": "markdown",
      "metadata": {
        "id": "K8M_l9SbueoC"
      },
      "source": [
        "<hr style=\"border:5px solid #108999\"> </hr>"
      ]
    },
    {
      "cell_type": "markdown",
      "metadata": {
        "id": "JHtmzddRueoO"
      },
      "source": [
        "# Python Variables and Types of Data <hr style=\"border:4.5px solid #108999\"> </hr>"
      ]
    },
    {
      "cell_type": "markdown",
      "metadata": {
        "id": "vdgYRXNKueoQ"
      },
      "source": [
        "## Variables"
      ]
    },
    {
      "cell_type": "markdown",
      "metadata": {
        "id": "d_coAXOUueoR"
      },
      "source": [
        "Create a variable with name \"x\" and a value of 10. Execute."
      ]
    },
    {
      "cell_type": "code",
      "metadata": {
        "collapsed": true,
        "id": "u444XfFVueoU"
      },
      "source": [
        "x=10"
      ],
      "execution_count": 2,
      "outputs": []
    },
    {
      "cell_type": "markdown",
      "metadata": {
        "id": "C0qySGrWueoV"
      },
      "source": [
        "Tell the computer to show you the value of that variable."
      ]
    },
    {
      "cell_type": "code",
      "metadata": {
        "collapsed": true,
        "id": "pVnnZV3bueoX"
      },
      "source": [
        ""
      ],
      "execution_count": null,
      "outputs": []
    },
    {
      "cell_type": "markdown",
      "metadata": {
        "id": "umV8vwRhueoZ"
      },
      "source": [
        "Can you think of a second way to obtain the same result? "
      ]
    },
    {
      "cell_type": "code",
      "metadata": {
        "collapsed": true,
        "id": "ya683qCIueoa"
      },
      "source": [
        ""
      ],
      "execution_count": null,
      "outputs": []
    },
    {
      "cell_type": "markdown",
      "metadata": {
        "id": "_i7oaKQLueob"
      },
      "source": [
        "On the same line, create four new variables: a,b,c, and d, that are equal to 10, 20, 30, and 40, respectively."
      ]
    },
    {
      "cell_type": "code",
      "metadata": {
        "collapsed": true,
        "id": "ny774UQQueoc"
      },
      "source": [
        ""
      ],
      "execution_count": null,
      "outputs": []
    },
    {
      "cell_type": "markdown",
      "metadata": {
        "id": "77EPdeWbueoe"
      },
      "source": [
        "Tell the computer to show you the value corresponding to the variable \"b\"."
      ]
    },
    {
      "cell_type": "code",
      "metadata": {
        "collapsed": true,
        "id": "VMd57fryueog"
      },
      "source": [
        ""
      ],
      "execution_count": null,
      "outputs": []
    },
    {
      "cell_type": "markdown",
      "metadata": {
        "id": "rrLWSHHwueog"
      },
      "source": [
        "Do the same for \"d\"."
      ]
    },
    {
      "cell_type": "code",
      "metadata": {
        "collapsed": true,
        "id": "CTnSQQ41ueog"
      },
      "source": [
        ""
      ],
      "execution_count": null,
      "outputs": []
    },
    {
      "cell_type": "markdown",
      "metadata": {
        "id": "b5JjRQjpueog"
      },
      "source": [
        "## Numbers and Boolean Values"
      ]
    },
    {
      "cell_type": "markdown",
      "metadata": {
        "id": "1loe-ieQueoh"
      },
      "source": [
        "Create a variable equal to \"True\"."
      ]
    },
    {
      "cell_type": "code",
      "metadata": {
        "collapsed": true,
        "id": "aH8B9QZXueoi"
      },
      "source": [
        ""
      ],
      "execution_count": null,
      "outputs": []
    },
    {
      "cell_type": "markdown",
      "metadata": {
        "id": "GsJuyad3ueoj"
      },
      "source": [
        "Check its type."
      ]
    },
    {
      "cell_type": "code",
      "metadata": {
        "collapsed": true,
        "id": "tKHAvR8bueoj"
      },
      "source": [
        ""
      ],
      "execution_count": null,
      "outputs": []
    },
    {
      "cell_type": "markdown",
      "metadata": {
        "id": "hgay3C_Lueoj"
      },
      "source": [
        "Create a variable equal to 99."
      ]
    },
    {
      "cell_type": "code",
      "metadata": {
        "collapsed": true,
        "id": "GxzmhmI9ueok"
      },
      "source": [
        ""
      ],
      "execution_count": null,
      "outputs": []
    },
    {
      "cell_type": "markdown",
      "metadata": {
        "id": "HTyyBledueom"
      },
      "source": [
        "Check its type."
      ]
    },
    {
      "cell_type": "code",
      "metadata": {
        "collapsed": true,
        "id": "PVijKMy9ueom"
      },
      "source": [
        ""
      ],
      "execution_count": null,
      "outputs": []
    },
    {
      "cell_type": "markdown",
      "metadata": {
        "id": "28vQfErPueom"
      },
      "source": [
        "Check the type of the value 0.99. "
      ]
    },
    {
      "cell_type": "code",
      "metadata": {
        "collapsed": true,
        "id": "R5pN0-A9ueon"
      },
      "source": [
        ""
      ],
      "execution_count": null,
      "outputs": []
    },
    {
      "cell_type": "markdown",
      "metadata": {
        "id": "k3RaqXBrueon"
      },
      "source": [
        "Turn 99 into a *float*."
      ]
    },
    {
      "cell_type": "code",
      "metadata": {
        "collapsed": true,
        "id": "qlyms-3aueoo"
      },
      "source": [
        ""
      ],
      "execution_count": null,
      "outputs": []
    },
    {
      "cell_type": "markdown",
      "metadata": {
        "id": "2E_gpokSueoo"
      },
      "source": [
        "Turn 0.99 into an integer. What value did you get?"
      ]
    },
    {
      "cell_type": "code",
      "metadata": {
        "collapsed": true,
        "id": "flduvmrFueop"
      },
      "source": [
        ""
      ],
      "execution_count": null,
      "outputs": []
    },
    {
      "cell_type": "markdown",
      "metadata": {
        "id": "_ImO-hcvueoq"
      },
      "source": [
        "## Strings"
      ]
    },
    {
      "cell_type": "markdown",
      "metadata": {
        "id": "_K1S4NVLueoq"
      },
      "source": [
        "Assign the value of 100 to the variable \"m\"."
      ]
    },
    {
      "cell_type": "code",
      "metadata": {
        "id": "PN04Fo2nueoq"
      },
      "source": [
        ""
      ],
      "execution_count": null,
      "outputs": []
    },
    {
      "cell_type": "markdown",
      "metadata": {
        "id": "rlwi_yDoueoq"
      },
      "source": [
        "With the help of the variable \"m\", write one line of code where the output after executuion would be *100 days*.\n",
        "\n",
        "*Hint:* *You could provide four answers to this question!*"
      ]
    },
    {
      "cell_type": "code",
      "metadata": {
        "id": "kj9sIyxZueor"
      },
      "source": [
        ""
      ],
      "execution_count": null,
      "outputs": []
    },
    {
      "cell_type": "code",
      "metadata": {
        "id": "aOntLl2Lueor"
      },
      "source": [
        ""
      ],
      "execution_count": null,
      "outputs": []
    },
    {
      "cell_type": "code",
      "metadata": {
        "id": "seNwnhvwueot"
      },
      "source": [
        ""
      ],
      "execution_count": null,
      "outputs": []
    },
    {
      "cell_type": "markdown",
      "metadata": {
        "id": "qdauPaP1ueot"
      },
      "source": [
        "Produce an output equal to *It's cool, isn't it?*"
      ]
    },
    {
      "cell_type": "code",
      "metadata": {
        "id": "GAdrPppkueot"
      },
      "source": [
        ""
      ],
      "execution_count": null,
      "outputs": []
    },
    {
      "cell_type": "markdown",
      "metadata": {
        "id": "9NUeu93Bueou"
      },
      "source": [
        "Fix the string below."
      ]
    },
    {
      "cell_type": "code",
      "metadata": {
        "id": "-ABBTKS0ueou"
      },
      "source": [
        "'Don't be shy"
      ],
      "execution_count": null,
      "outputs": []
    },
    {
      "cell_type": "markdown",
      "metadata": {
        "id": "nLgXfeWUueov"
      },
      "source": [
        "Produce an output equal to *Click \"OK\"*."
      ]
    },
    {
      "cell_type": "code",
      "metadata": {
        "id": "unV91k6Iueov"
      },
      "source": [
        ""
      ],
      "execution_count": null,
      "outputs": []
    },
    {
      "cell_type": "markdown",
      "metadata": {
        "id": "ip8i-YYIueov"
      },
      "source": [
        "Include a plus sign in your line of code to produce *'Big Houses'*."
      ]
    },
    {
      "cell_type": "code",
      "metadata": {
        "id": "FRddOV9Kueov"
      },
      "source": [
        ""
      ],
      "execution_count": null,
      "outputs": []
    },
    {
      "cell_type": "markdown",
      "metadata": {
        "id": "hyHUOnevueov"
      },
      "source": [
        "Include a trailing comma in your line of code to produce *Big Houses*."
      ]
    },
    {
      "cell_type": "code",
      "metadata": {
        "id": "M6E22CkBueow"
      },
      "source": [
        ""
      ],
      "execution_count": null,
      "outputs": []
    },
    {
      "cell_type": "markdown",
      "metadata": {
        "id": "pcgFshDtueow"
      },
      "source": [
        "<hr style=\"border:5px solid #108999\"> </hr>"
      ]
    },
    {
      "cell_type": "markdown",
      "metadata": {
        "id": "32zGPmvqueow"
      },
      "source": [
        "# Basic Python Syntax <hr style=\"border:4.5px solid #108999\"> </hr>"
      ]
    },
    {
      "cell_type": "markdown",
      "metadata": {
        "id": "PfYcjVGNueox"
      },
      "source": [
        "## Arithmetic operators"
      ]
    },
    {
      "cell_type": "markdown",
      "metadata": {
        "id": "qW6ipz5mueoy"
      },
      "source": [
        "Combine 15 and 23."
      ]
    },
    {
      "cell_type": "code",
      "metadata": {
        "collapsed": true,
        "id": "3DOohZntueoz"
      },
      "source": [
        ""
      ],
      "execution_count": null,
      "outputs": []
    },
    {
      "cell_type": "markdown",
      "metadata": {
        "id": "Ddsq2N5Mueoz"
      },
      "source": [
        "Subtract 50 from 26."
      ]
    },
    {
      "cell_type": "code",
      "metadata": {
        "collapsed": true,
        "id": "tPrhfESfueo0"
      },
      "source": [
        ""
      ],
      "execution_count": null,
      "outputs": []
    },
    {
      "cell_type": "markdown",
      "metadata": {
        "id": "bEtu77T5ueo0"
      },
      "source": [
        "Divide 20 by 4."
      ]
    },
    {
      "cell_type": "code",
      "metadata": {
        "collapsed": true,
        "id": "TIuQzcp3ueo0"
      },
      "source": [
        ""
      ],
      "execution_count": null,
      "outputs": []
    },
    {
      "cell_type": "markdown",
      "metadata": {
        "id": "BzWwzK3Lueo1"
      },
      "source": [
        "Divide 22 by 4."
      ]
    },
    {
      "cell_type": "code",
      "metadata": {
        "collapsed": true,
        "id": "NjrGLGpDueo2"
      },
      "source": [
        ""
      ],
      "execution_count": null,
      "outputs": []
    },
    {
      "cell_type": "markdown",
      "metadata": {
        "id": "Nlzr44vkueo2"
      },
      "source": [
        "Obtain the remainder of the division of 22 by 4."
      ]
    },
    {
      "cell_type": "code",
      "metadata": {
        "collapsed": true,
        "id": "Naf874aOueo2"
      },
      "source": [
        ""
      ],
      "execution_count": null,
      "outputs": []
    },
    {
      "cell_type": "markdown",
      "metadata": {
        "id": "tqHgJL3Yueo3"
      },
      "source": [
        "Divide the float 22 by 4."
      ]
    },
    {
      "cell_type": "code",
      "metadata": {
        "collapsed": true,
        "id": "NdSuZ0iJueo3"
      },
      "source": [
        ""
      ],
      "execution_count": null,
      "outputs": []
    },
    {
      "cell_type": "code",
      "metadata": {
        "collapsed": true,
        "id": "UbziNkg-ueo3"
      },
      "source": [
        ""
      ],
      "execution_count": null,
      "outputs": []
    },
    {
      "cell_type": "markdown",
      "metadata": {
        "id": "UQv1cAfLueo4"
      },
      "source": [
        "Multiply 6 by 8."
      ]
    },
    {
      "cell_type": "code",
      "metadata": {
        "collapsed": true,
        "id": "ssZJvk94ueo4"
      },
      "source": [
        ""
      ],
      "execution_count": null,
      "outputs": []
    },
    {
      "cell_type": "markdown",
      "metadata": {
        "id": "HCkM56raueo4"
      },
      "source": [
        "Raise 15 to the power of 2."
      ]
    },
    {
      "cell_type": "code",
      "metadata": {
        "collapsed": true,
        "id": "bhrsjvuIueo4"
      },
      "source": [
        ""
      ],
      "execution_count": null,
      "outputs": []
    },
    {
      "cell_type": "markdown",
      "metadata": {
        "id": "Iq9isifmueo5"
      },
      "source": [
        "## The double-equality sign"
      ]
    },
    {
      "cell_type": "markdown",
      "metadata": {
        "id": "52DQ4sSHueo5"
      },
      "source": [
        "Demonstrate that 100 is not equal to 98."
      ]
    },
    {
      "cell_type": "code",
      "metadata": {
        "collapsed": true,
        "id": "TRa6dWmzueo5"
      },
      "source": [
        ""
      ],
      "execution_count": null,
      "outputs": []
    },
    {
      "cell_type": "markdown",
      "metadata": {
        "id": "r70sSE21ueo5"
      },
      "source": [
        "## Reassign Values"
      ]
    },
    {
      "cell_type": "markdown",
      "metadata": {
        "id": "z36C13Biueo5"
      },
      "source": [
        "Assign the value of 14 to a variable p."
      ]
    },
    {
      "cell_type": "code",
      "metadata": {
        "collapsed": true,
        "id": "fAekHnNoueo6"
      },
      "source": [
        ""
      ],
      "execution_count": null,
      "outputs": []
    },
    {
      "cell_type": "markdown",
      "metadata": {
        "id": "ztPVB66Bueo7"
      },
      "source": [
        "Calculate p + 10."
      ]
    },
    {
      "cell_type": "code",
      "metadata": {
        "collapsed": true,
        "id": "KfM21tLVueo7"
      },
      "source": [
        ""
      ],
      "execution_count": null,
      "outputs": []
    },
    {
      "cell_type": "markdown",
      "metadata": {
        "id": "vLY5La2Oueo7"
      },
      "source": [
        "Now, assign 30 to the variable p."
      ]
    },
    {
      "cell_type": "code",
      "metadata": {
        "collapsed": true,
        "id": "Oi9yViHSuepZ"
      },
      "source": [
        ""
      ],
      "execution_count": null,
      "outputs": []
    },
    {
      "cell_type": "markdown",
      "metadata": {
        "id": "twU_fH5auepZ"
      },
      "source": [
        "Calculate p + 10."
      ]
    },
    {
      "cell_type": "code",
      "metadata": {
        "collapsed": true,
        "id": "uobHGzL5uepa"
      },
      "source": [
        ""
      ],
      "execution_count": null,
      "outputs": []
    },
    {
      "cell_type": "markdown",
      "metadata": {
        "id": "91Obj7tBuepa"
      },
      "source": [
        "Observe how the value of p is always the last one you have assigned."
      ]
    },
    {
      "cell_type": "markdown",
      "metadata": {
        "id": "xxIpM7wNuepa"
      },
      "source": [
        "## Line Continuation"
      ]
    },
    {
      "cell_type": "markdown",
      "metadata": {
        "id": "NPZ1r7WMuepa"
      },
      "source": [
        "Add a backslash in the code below, so it is a one-line code. Observe the change in the result."
      ]
    },
    {
      "cell_type": "code",
      "metadata": {
        "id": "fF5d94Lluepb",
        "outputId": "f893be19-9ec6-4219-a40c-684c52cbe123"
      },
      "source": [
        "15 + 31\n",
        "- 26"
      ],
      "execution_count": null,
      "outputs": [
        {
          "output_type": "execute_result",
          "data": {
            "text/plain": [
              "-26"
            ]
          },
          "metadata": {
            "tags": []
          },
          "execution_count": 1
        }
      ]
    },
    {
      "cell_type": "code",
      "metadata": {
        "id": "1bUg6LM4uepf"
      },
      "source": [
        ""
      ],
      "execution_count": null,
      "outputs": []
    },
    {
      "cell_type": "markdown",
      "metadata": {
        "id": "7P788xG2uepf"
      },
      "source": [
        "## Indexing Elements"
      ]
    },
    {
      "cell_type": "markdown",
      "metadata": {
        "id": "5QNLJiSnuepf"
      },
      "source": [
        "Extract the letter 'B' from \"Bingo!\"."
      ]
    },
    {
      "cell_type": "code",
      "metadata": {
        "collapsed": true,
        "id": "r8HNlttmuepf"
      },
      "source": [
        ""
      ],
      "execution_count": null,
      "outputs": []
    },
    {
      "cell_type": "code",
      "metadata": {
        "collapsed": true,
        "id": "4mawS-fPuepg"
      },
      "source": [
        ""
      ],
      "execution_count": null,
      "outputs": []
    },
    {
      "cell_type": "markdown",
      "metadata": {
        "id": "M3Uoz0Vwuepg"
      },
      "source": [
        "Extract the letter \"u\" from \"Constitution\"."
      ]
    },
    {
      "cell_type": "code",
      "metadata": {
        "collapsed": true,
        "id": "TpDw9mSouepg"
      },
      "source": [
        ""
      ],
      "execution_count": null,
      "outputs": []
    },
    {
      "cell_type": "code",
      "metadata": {
        "collapsed": true,
        "id": "WAKiNwbnueph"
      },
      "source": [
        ""
      ],
      "execution_count": null,
      "outputs": []
    },
    {
      "cell_type": "markdown",
      "metadata": {
        "id": "b4FdgxRcueph"
      },
      "source": [
        "## Structure Your Code with Indentation"
      ]
    },
    {
      "cell_type": "markdown",
      "metadata": {
        "id": "8QLl85i7uepi"
      },
      "source": [
        "Use indentation properly to print the result of the function with an argument of 3."
      ]
    },
    {
      "cell_type": "code",
      "metadata": {
        "id": "puYgeTMNuepi"
      },
      "source": [
        "def ten(x):\n",
        "    x = 10\n",
        "    return x\n",
        "    print (ten(3))"
      ],
      "execution_count": null,
      "outputs": []
    },
    {
      "cell_type": "markdown",
      "metadata": {
        "id": "CAuw9GLuuepi"
      },
      "source": [
        "<hr style=\"border:5px solid #108999\"> </hr>"
      ]
    },
    {
      "cell_type": "markdown",
      "metadata": {
        "id": "ArqZbp7duepi"
      },
      "source": [
        "# Operators <hr style=\"border:4.5px solid #108999\"> </hr>"
      ]
    },
    {
      "cell_type": "markdown",
      "metadata": {
        "id": "g5xjrJSAuepj"
      },
      "source": [
        "## Comparison Operators"
      ]
    },
    {
      "cell_type": "markdown",
      "metadata": {
        "id": "GV-1g-Cquepj"
      },
      "source": [
        "Verify that 25 is smaller than 30. "
      ]
    },
    {
      "cell_type": "code",
      "metadata": {
        "collapsed": true,
        "id": "50M4k8Vhuepj"
      },
      "source": [
        ""
      ],
      "execution_count": null,
      "outputs": []
    },
    {
      "cell_type": "markdown",
      "metadata": {
        "id": "91Mb2hb7uepk"
      },
      "source": [
        "Verify that 5 multiplied by 3 is less than or equal to 5 to the power of 3. "
      ]
    },
    {
      "cell_type": "code",
      "metadata": {
        "collapsed": true,
        "id": "So6uy2dvuepn"
      },
      "source": [
        ""
      ],
      "execution_count": null,
      "outputs": []
    },
    {
      "cell_type": "markdown",
      "metadata": {
        "id": "ggEsUvgZuepn"
      },
      "source": [
        "Verify that 100 is equal to 10 square."
      ]
    },
    {
      "cell_type": "code",
      "metadata": {
        "collapsed": true,
        "id": "G_GciFJHuepn"
      },
      "source": [
        ""
      ],
      "execution_count": null,
      "outputs": []
    },
    {
      "cell_type": "markdown",
      "metadata": {
        "id": "Znb-ti6tuepn"
      },
      "source": [
        "Verify that 53 is not equal to 46."
      ]
    },
    {
      "cell_type": "code",
      "metadata": {
        "collapsed": true,
        "id": "FRqDFBuvuepp"
      },
      "source": [
        ""
      ],
      "execution_count": null,
      "outputs": []
    },
    {
      "cell_type": "markdown",
      "metadata": {
        "id": "wWu9xtznuepp"
      },
      "source": [
        "## Logical and Identity Operators"
      ]
    },
    {
      "cell_type": "markdown",
      "metadata": {
        "id": "aqZIKNyEuepp"
      },
      "source": [
        "*Suggested Answers follow (usually there are multiple ways to solve a problem in Python).*"
      ]
    },
    {
      "cell_type": "markdown",
      "metadata": {
        "id": "ivxS4i8luepp"
      },
      "source": [
        "Check whether the following code is True or False."
      ]
    },
    {
      "cell_type": "markdown",
      "metadata": {
        "id": "w19zcBYJuepp"
      },
      "source": [
        "False or not True and not False "
      ]
    },
    {
      "cell_type": "code",
      "metadata": {
        "collapsed": true,
        "id": "AJFVho_Juepp"
      },
      "source": [
        ""
      ],
      "execution_count": null,
      "outputs": []
    },
    {
      "cell_type": "markdown",
      "metadata": {
        "id": "HVwqburRuepq"
      },
      "source": [
        "True and not False and True or not False"
      ]
    },
    {
      "cell_type": "code",
      "metadata": {
        "collapsed": true,
        "id": "UntSRyXCuepq"
      },
      "source": [
        ""
      ],
      "execution_count": null,
      "outputs": []
    },
    {
      "cell_type": "markdown",
      "metadata": {
        "id": "68EetDucuepq"
      },
      "source": [
        "True or False and False"
      ]
    },
    {
      "cell_type": "code",
      "metadata": {
        "collapsed": true,
        "id": "ZJ8Ky5W5uepq"
      },
      "source": [
        ""
      ],
      "execution_count": null,
      "outputs": []
    },
    {
      "cell_type": "markdown",
      "metadata": {
        "id": "PHnrxyPCuepq"
      },
      "source": [
        "False and True or False"
      ]
    },
    {
      "cell_type": "code",
      "metadata": {
        "collapsed": true,
        "id": "MZHBvjsxuepr"
      },
      "source": [
        ""
      ],
      "execution_count": null,
      "outputs": []
    },
    {
      "cell_type": "markdown",
      "metadata": {
        "id": "Hoz5-zeRuepr"
      },
      "source": [
        "Using an identity operator, verify that 10 is not the same as 12."
      ]
    },
    {
      "cell_type": "code",
      "metadata": {
        "collapsed": true,
        "id": "g19Ogns1uepr"
      },
      "source": [
        ""
      ],
      "execution_count": null,
      "outputs": []
    },
    {
      "cell_type": "markdown",
      "metadata": {
        "id": "tVYsbiFSuepr"
      },
      "source": [
        "Using an identity operator, verify that 50 is the same as 50."
      ]
    },
    {
      "cell_type": "code",
      "metadata": {
        "collapsed": true,
        "id": "E1LbnTiyueps"
      },
      "source": [
        ""
      ],
      "execution_count": null,
      "outputs": []
    },
    {
      "cell_type": "markdown",
      "metadata": {
        "id": "Vl23yErOueps"
      },
      "source": [
        "<hr style=\"border:5px solid #108999\"> </hr>"
      ]
    },
    {
      "cell_type": "markdown",
      "metadata": {
        "id": "VJSx66p1ueps"
      },
      "source": [
        "# Conditional Statements <hr style=\"border:4.5px solid #108999\"> </hr>"
      ]
    },
    {
      "cell_type": "markdown",
      "metadata": {
        "id": "SIPRGVqLueps"
      },
      "source": [
        "## Introduction to the IF statement"
      ]
    },
    {
      "cell_type": "markdown",
      "metadata": {
        "id": "p3_lm_QRuept"
      },
      "source": [
        "Create a two-line code that prints \"The condition has been satisfied\" if 5 is greater than 2."
      ]
    },
    {
      "cell_type": "code",
      "metadata": {
        "collapsed": true,
        "id": "jkQw5kuguepv"
      },
      "source": [
        ""
      ],
      "execution_count": null,
      "outputs": []
    },
    {
      "cell_type": "markdown",
      "metadata": {
        "id": "ro_b-48Tuepv"
      },
      "source": [
        "Assign 10 to the variable x and 25 to the variable y. In the same cell, create 2 conditional statements. Let the first one print \"Both conditions are correct\" if x is greater then 3 and y is greater than 13. Let the second one print \"At least one of the conditions is false\" if x is less than or equal to 3 or y is less than or equal to 13. \n",
        "Change the values assigned to x and y and re-run the cell to verify your code still works."
      ]
    },
    {
      "cell_type": "code",
      "metadata": {
        "collapsed": true,
        "id": "JQxNEm-muepv"
      },
      "source": [
        ""
      ],
      "execution_count": null,
      "outputs": []
    },
    {
      "cell_type": "markdown",
      "metadata": {
        "id": "rOTFjXEPuepv"
      },
      "source": [
        "## Add an ELSE Statement"
      ]
    },
    {
      "cell_type": "markdown",
      "metadata": {
        "id": "vInAqtpNuepv"
      },
      "source": [
        "Let x represent the number of orders received during a certain day. \n",
        "Assign 102 to x. Create a program that prints \"A busy day\" if x is greater than 100, and \"A calm day\" otherwise. Change x to 97 to verify your code works properly."
      ]
    },
    {
      "cell_type": "code",
      "metadata": {
        "collapsed": true,
        "id": "oBBpLvoCuepw"
      },
      "source": [
        ""
      ],
      "execution_count": null,
      "outputs": []
    },
    {
      "cell_type": "markdown",
      "metadata": {
        "id": "7nHume-Kuepx"
      },
      "source": [
        "## Else if, for Brief - ELIF"
      ]
    },
    {
      "cell_type": "markdown",
      "metadata": {
        "id": "abq_J9Ehuepx"
      },
      "source": [
        "Assign 200 to x.\n",
        "Create the following piece of code:\n",
        "If x > 200, print out \"Big\"; \n",
        "If x > 100 and x <= 200, print out \"Average\"; \n",
        "and If x <= 100, print out \"Small\".\n",
        "Use the If, Elif, and Else keywords in your code."
      ]
    },
    {
      "cell_type": "code",
      "metadata": {
        "collapsed": true,
        "id": "XEpILURXuepx"
      },
      "source": [
        ""
      ],
      "execution_count": null,
      "outputs": []
    },
    {
      "cell_type": "markdown",
      "metadata": {
        "id": "8KV-bdVduepx"
      },
      "source": [
        "Change the initial value of x to see how your output will vary."
      ]
    },
    {
      "cell_type": "markdown",
      "metadata": {
        "id": "KGmy2MWRuepx"
      },
      "source": [
        "******"
      ]
    },
    {
      "cell_type": "markdown",
      "metadata": {
        "id": "RDIXbq_Auepx"
      },
      "source": [
        "Keep the first two conditions of the previous code. Add a new ELIF statement, so that, eventually, the program prints \"Small\" if x >= 0 and x <= 100, and \"Negative\" if x < 0. \n",
        "Let x carry the value of 50 and then of -50 to check if your code is correct."
      ]
    },
    {
      "cell_type": "code",
      "metadata": {
        "collapsed": true,
        "id": "XtSPGvwwuepy"
      },
      "source": [
        ""
      ],
      "execution_count": null,
      "outputs": []
    },
    {
      "cell_type": "markdown",
      "metadata": {
        "id": "phZj7ie0uepy"
      },
      "source": [
        "<hr style=\"border:5px solid #108999\"> </hr>"
      ]
    },
    {
      "cell_type": "markdown",
      "metadata": {
        "id": "waFmNOrruepy"
      },
      "source": [
        "# Functions <hr style=\"border:4.5px solid #108999\"> </hr>"
      ]
    },
    {
      "cell_type": "markdown",
      "metadata": {
        "id": "OHbwa52Xuepy"
      },
      "source": [
        "## Creating a Function with a Parameter"
      ]
    },
    {
      "cell_type": "markdown",
      "metadata": {
        "id": "P7ZQx8MNuepz"
      },
      "source": [
        "Define a function that returns a value equal to its argument multiplied by 2."
      ]
    },
    {
      "cell_type": "code",
      "metadata": {
        "collapsed": true,
        "id": "l8JCcD8cuep0"
      },
      "source": [
        ""
      ],
      "execution_count": null,
      "outputs": []
    },
    {
      "cell_type": "markdown",
      "metadata": {
        "id": "9URJz8fJuep0"
      },
      "source": [
        "Define a funciton that returns a float value equal to its argument divided by 2."
      ]
    },
    {
      "cell_type": "code",
      "metadata": {
        "collapsed": true,
        "id": "e2uvMcOCuep0"
      },
      "source": [
        ""
      ],
      "execution_count": null,
      "outputs": []
    },
    {
      "cell_type": "markdown",
      "metadata": {
        "id": "T1-8ycYYuep0"
      },
      "source": [
        "## Another Way to Define a Function"
      ]
    },
    {
      "cell_type": "markdown",
      "metadata": {
        "id": "VQejFd-nuep0"
      },
      "source": [
        "Define a function that states the value of the argument accompanied by the phrase \"Raised to the power of 2:\" and returns a value equal to its argument raised to the power of 2. This time, use a new variable, called \"result\", in the body of the Function. \n",
        "Call the function with some argument to verify it works properly.\n",
        "\n",
        "*Hint: Your knowledge about stating multiple elements on a line can be of great help in solving this exercise!*"
      ]
    },
    {
      "cell_type": "code",
      "metadata": {
        "collapsed": true,
        "id": "C1nhmeZ3uep0"
      },
      "source": [
        ""
      ],
      "execution_count": null,
      "outputs": []
    },
    {
      "cell_type": "markdown",
      "metadata": {
        "id": "CPeBh8dUuep1"
      },
      "source": [
        "## Using a Function in Another Function"
      ]
    },
    {
      "cell_type": "markdown",
      "metadata": {
        "id": "sHNdctNAuep2"
      },
      "source": [
        "Define a function that adds 5 to the parameter. Then, define another function that will multiply the newly obtained number by 3.\n",
        "Verify your code was correct by calling the second function with an argument of 5. \n",
        "Was your output equal to 30?"
      ]
    },
    {
      "cell_type": "code",
      "metadata": {
        "collapsed": true,
        "id": "Socq78Phuep2"
      },
      "source": [
        ""
      ],
      "execution_count": null,
      "outputs": []
    },
    {
      "cell_type": "markdown",
      "metadata": {
        "id": "6uBQfRhcuep3"
      },
      "source": [
        "## Combining Conditional Statements and Functions"
      ]
    },
    {
      "cell_type": "markdown",
      "metadata": {
        "id": "nOXmrtq2uep3"
      },
      "source": [
        "Define a function, called **compare_the_two()**, with two arguments. If the first one is greater than the second one, let it print \"Greater\". If the second one is greater, it should print \"Less\". Let it print \"Equal\" if the two values are the same number."
      ]
    },
    {
      "cell_type": "code",
      "metadata": {
        "collapsed": true,
        "id": "-tw06ohOuep5"
      },
      "source": [
        ""
      ],
      "execution_count": null,
      "outputs": []
    },
    {
      "cell_type": "markdown",
      "metadata": {
        "id": "EYr0RY3vuep6"
      },
      "source": [
        "## Notable Built-In Functions in Python"
      ]
    },
    {
      "cell_type": "markdown",
      "metadata": {
        "id": "wdfCIx7Nuep6"
      },
      "source": [
        "Obtain the maximum number among the values 25, 65, 890, and 15."
      ]
    },
    {
      "cell_type": "code",
      "metadata": {
        "collapsed": true,
        "id": "swMnQleCuep6"
      },
      "source": [
        ""
      ],
      "execution_count": null,
      "outputs": []
    },
    {
      "cell_type": "markdown",
      "metadata": {
        "id": "4doAaOGmuep6"
      },
      "source": [
        "Obtain the minimum number among the values 25, 65, 890, and 15."
      ]
    },
    {
      "cell_type": "code",
      "metadata": {
        "collapsed": true,
        "id": "1n17HoRMuep6"
      },
      "source": [
        ""
      ],
      "execution_count": null,
      "outputs": []
    },
    {
      "cell_type": "markdown",
      "metadata": {
        "id": "egGg3F4Euep7"
      },
      "source": [
        "Find the absolute value of -100"
      ]
    },
    {
      "cell_type": "code",
      "metadata": {
        "collapsed": true,
        "id": "nia-qSGPuep7"
      },
      "source": [
        ""
      ],
      "execution_count": null,
      "outputs": []
    },
    {
      "cell_type": "markdown",
      "metadata": {
        "id": "aPVjU9rsuep7"
      },
      "source": [
        "Round the value of 55.5. Did you obtain 56.0?"
      ]
    },
    {
      "cell_type": "code",
      "metadata": {
        "collapsed": true,
        "id": "jzU5l_8-uep7"
      },
      "source": [
        ""
      ],
      "execution_count": null,
      "outputs": []
    },
    {
      "cell_type": "markdown",
      "metadata": {
        "id": "l7VtAcBGuep8"
      },
      "source": [
        "Round 35.56789 to the third digit."
      ]
    },
    {
      "cell_type": "code",
      "metadata": {
        "collapsed": true,
        "id": "h3GpPd_euep9"
      },
      "source": [
        ""
      ],
      "execution_count": null,
      "outputs": []
    },
    {
      "cell_type": "markdown",
      "metadata": {
        "id": "-CiiNmzguep9"
      },
      "source": [
        "Find the sum of all elements in the provided list, called \"Numbers\"."
      ]
    },
    {
      "cell_type": "code",
      "metadata": {
        "collapsed": true,
        "id": "1_TDKGd7uep_"
      },
      "source": [
        "Numbers = [1, 5, 64, 24.5]"
      ],
      "execution_count": null,
      "outputs": []
    },
    {
      "cell_type": "code",
      "metadata": {
        "collapsed": true,
        "id": "t6byWsrcuep_"
      },
      "source": [
        ""
      ],
      "execution_count": null,
      "outputs": []
    },
    {
      "cell_type": "markdown",
      "metadata": {
        "id": "7zD6S-wpuep_"
      },
      "source": [
        "Use a built-in function to raise 10 to the power of 3."
      ]
    },
    {
      "cell_type": "code",
      "metadata": {
        "collapsed": true,
        "id": "pz2HFFPDueqA"
      },
      "source": [
        ""
      ],
      "execution_count": null,
      "outputs": []
    },
    {
      "cell_type": "markdown",
      "metadata": {
        "id": "ynCNrKm5ueqB"
      },
      "source": [
        "How many characters are there in the word \"Elephant\"?"
      ]
    },
    {
      "cell_type": "code",
      "metadata": {
        "collapsed": true,
        "id": "4kHBUpdKueqB"
      },
      "source": [
        ""
      ],
      "execution_count": null,
      "outputs": []
    },
    {
      "cell_type": "markdown",
      "metadata": {
        "id": "u2f-OubGueqB"
      },
      "source": [
        "Create a function, called \"distance_from_zero\", that returns the absolute value of a provided single argument and prints a statement \"Not Possible\" if the argument provided is not a number.\n",
        "Call the funtion with the values of -10 and \"cat\" to verify it works correctly."
      ]
    },
    {
      "cell_type": "code",
      "metadata": {
        "collapsed": true,
        "id": "QmBSSsC1ueqB"
      },
      "source": [
        ""
      ],
      "execution_count": null,
      "outputs": []
    },
    {
      "cell_type": "code",
      "metadata": {
        "collapsed": true,
        "id": "afvy0E9OueqB"
      },
      "source": [
        ""
      ],
      "execution_count": null,
      "outputs": []
    },
    {
      "cell_type": "code",
      "metadata": {
        "collapsed": true,
        "id": "6mKxmI4LueqB"
      },
      "source": [
        ""
      ],
      "execution_count": null,
      "outputs": []
    },
    {
      "cell_type": "markdown",
      "metadata": {
        "id": "rEAflqmJueqC"
      },
      "source": [
        "<hr style=\"border:5px solid #108999\"> </hr>"
      ]
    },
    {
      "cell_type": "markdown",
      "metadata": {
        "id": "83k7oeyMueqC"
      },
      "source": [
        "# Sequences <hr style=\"border:4.5px solid #108999\"> </hr>"
      ]
    },
    {
      "cell_type": "markdown",
      "metadata": {
        "id": "88FaaT4DueqD"
      },
      "source": [
        "## Lists"
      ]
    },
    {
      "cell_type": "markdown",
      "metadata": {
        "id": "4iYKw1i8ueqD"
      },
      "source": [
        "Create a list, called \"Numbers\". Let it contain the numbers 10, 25, 40, and 50."
      ]
    },
    {
      "cell_type": "code",
      "metadata": {
        "collapsed": true,
        "id": "BF7vkKciueqD"
      },
      "source": [
        ""
      ],
      "execution_count": null,
      "outputs": []
    },
    {
      "cell_type": "markdown",
      "metadata": {
        "id": "cHfCTSJoueqD"
      },
      "source": [
        "Print the element at index 2 from the list."
      ]
    },
    {
      "cell_type": "code",
      "metadata": {
        "collapsed": true,
        "id": "X8m17p8CueqD"
      },
      "source": [
        ""
      ],
      "execution_count": null,
      "outputs": []
    },
    {
      "cell_type": "markdown",
      "metadata": {
        "id": "emyWA06TueqD"
      },
      "source": [
        "Print the 0th element."
      ]
    },
    {
      "cell_type": "code",
      "metadata": {
        "collapsed": true,
        "id": "gJ5NGouWueqD"
      },
      "source": [
        ""
      ],
      "execution_count": null,
      "outputs": []
    },
    {
      "cell_type": "markdown",
      "metadata": {
        "id": "34AuJOViueqD"
      },
      "source": [
        "Print the third-to-last element using a minus sign in the brackets."
      ]
    },
    {
      "cell_type": "code",
      "metadata": {
        "collapsed": true,
        "id": "NW_aWpgnueqD"
      },
      "source": [
        ""
      ],
      "execution_count": null,
      "outputs": []
    },
    {
      "cell_type": "markdown",
      "metadata": {
        "id": "aIkUjTpjueqE"
      },
      "source": [
        "Substitute the number 10 with the number 15."
      ]
    },
    {
      "cell_type": "code",
      "metadata": {
        "collapsed": true,
        "id": "pDAmIwr6ueqF"
      },
      "source": [
        ""
      ],
      "execution_count": null,
      "outputs": []
    },
    {
      "cell_type": "markdown",
      "metadata": {
        "id": "VMaPsch_ueqF"
      },
      "source": [
        "Delete the number 25 from the Numbers list."
      ]
    },
    {
      "cell_type": "code",
      "metadata": {
        "collapsed": true,
        "id": "vfL_Kh6JueqF"
      },
      "source": [
        ""
      ],
      "execution_count": null,
      "outputs": []
    },
    {
      "cell_type": "markdown",
      "metadata": {
        "id": "rLk3HlJpueqF"
      },
      "source": [
        "## Help Yourself with Methods"
      ]
    },
    {
      "cell_type": "markdown",
      "metadata": {
        "id": "a6gFY2ZlueqH"
      },
      "source": [
        "Append the number 100 to the Numbers list. "
      ]
    },
    {
      "cell_type": "code",
      "metadata": {
        "collapsed": true,
        "id": "9GxrVNW0ueqH"
      },
      "source": [
        "Numbers = [15, 40, 50]"
      ],
      "execution_count": null,
      "outputs": []
    },
    {
      "cell_type": "code",
      "metadata": {
        "collapsed": true,
        "id": "US7lPt34ueqH"
      },
      "source": [
        ""
      ],
      "execution_count": null,
      "outputs": []
    },
    {
      "cell_type": "markdown",
      "metadata": {
        "id": "0rpMIG01ueqH"
      },
      "source": [
        "With the help of the \"extend method\", add the numbers 115 an 140 to the list. "
      ]
    },
    {
      "cell_type": "code",
      "metadata": {
        "collapsed": true,
        "id": "lbOXal47ueqI"
      },
      "source": [
        ""
      ],
      "execution_count": null,
      "outputs": []
    },
    {
      "cell_type": "markdown",
      "metadata": {
        "id": "mXp7rELVueqI"
      },
      "source": [
        "Print a statement, saying \"The fourth element of the Numbers list is:\" and then designate the value of the fourth element. Use a trailing comma."
      ]
    },
    {
      "cell_type": "code",
      "metadata": {
        "collapsed": true,
        "id": "n_9KnVeAueqI"
      },
      "source": [
        ""
      ],
      "execution_count": null,
      "outputs": []
    },
    {
      "cell_type": "markdown",
      "metadata": {
        "id": "B64TwwL9ueqI"
      },
      "source": [
        "How many elements are there in the Numbers list?"
      ]
    },
    {
      "cell_type": "code",
      "metadata": {
        "collapsed": true,
        "id": "vBkLaZKzueqI"
      },
      "source": [
        ""
      ],
      "execution_count": null,
      "outputs": []
    },
    {
      "cell_type": "markdown",
      "metadata": {
        "id": "OLX-_drwueqI"
      },
      "source": [
        "## List Slicing"
      ]
    },
    {
      "cell_type": "code",
      "metadata": {
        "id": "WwrucWdAueqJ"
      },
      "source": [
        "Numbers = [15, 40, 50, 100, 115, 140]"
      ],
      "execution_count": null,
      "outputs": []
    },
    {
      "cell_type": "markdown",
      "metadata": {
        "id": "gDcmR5vtueqJ"
      },
      "source": [
        "Using list slicing, obtain the numbers 100 and 115."
      ]
    },
    {
      "cell_type": "code",
      "metadata": {
        "collapsed": true,
        "id": "h55IckFPueqJ"
      },
      "source": [
        ""
      ],
      "execution_count": null,
      "outputs": []
    },
    {
      "cell_type": "markdown",
      "metadata": {
        "id": "vFtQY9i2ueqJ"
      },
      "source": [
        "Using slicing, extract the first four elements from the list."
      ]
    },
    {
      "cell_type": "code",
      "metadata": {
        "collapsed": true,
        "id": "hE9VN1_queqK"
      },
      "source": [
        ""
      ],
      "execution_count": null,
      "outputs": []
    },
    {
      "cell_type": "markdown",
      "metadata": {
        "id": "S6GqQRXoueqK"
      },
      "source": [
        "Using slicing, extract all the elements from the list from the 3rd position onwards."
      ]
    },
    {
      "cell_type": "code",
      "metadata": {
        "collapsed": true,
        "id": "vgn3BptKueqL"
      },
      "source": [
        ""
      ],
      "execution_count": null,
      "outputs": []
    },
    {
      "cell_type": "markdown",
      "metadata": {
        "id": "qj34Tt5JueqL"
      },
      "source": [
        "Using slicing, extract the last 4 elements from the list."
      ]
    },
    {
      "cell_type": "code",
      "metadata": {
        "collapsed": true,
        "id": "LLZEc9ukueqL"
      },
      "source": [
        ""
      ],
      "execution_count": null,
      "outputs": []
    },
    {
      "cell_type": "markdown",
      "metadata": {
        "id": "9jDxQbUSueqL"
      },
      "source": [
        "Which is the position of the value 15?"
      ]
    },
    {
      "cell_type": "code",
      "metadata": {
        "collapsed": true,
        "id": "wj3a_lb6ueqL"
      },
      "source": [
        ""
      ],
      "execution_count": null,
      "outputs": []
    },
    {
      "cell_type": "markdown",
      "metadata": {
        "id": "Qbf374xiueqL"
      },
      "source": [
        "Create a list, called \"Two_Numbers\". Let its elements be the values 1 and 2. Then, create a new one, named \"All_Numbers\", that will containt both the \"Numbers\" and the \"Two_Numbers\" lists. "
      ]
    },
    {
      "cell_type": "code",
      "metadata": {
        "collapsed": true,
        "id": "Nmt0t-h4ueqM"
      },
      "source": [
        ""
      ],
      "execution_count": null,
      "outputs": []
    },
    {
      "cell_type": "markdown",
      "metadata": {
        "id": "CIA83XCoueqM"
      },
      "source": [
        "Sort all the numbers in the \"Numbers\" list from the largest to the smallest."
      ]
    },
    {
      "cell_type": "code",
      "metadata": {
        "collapsed": true,
        "id": "ltf_quaoueqM"
      },
      "source": [
        ""
      ],
      "execution_count": null,
      "outputs": []
    },
    {
      "cell_type": "markdown",
      "metadata": {
        "id": "CP8B6m-bueqM"
      },
      "source": [
        "## Tuples"
      ]
    },
    {
      "cell_type": "markdown",
      "metadata": {
        "collapsed": true,
        "id": "_-GxoTRzueqN"
      },
      "source": [
        "Create a tuple, called \"Cars\", with elements \"BMW\", \"Dodge\", and \"Ford\". "
      ]
    },
    {
      "cell_type": "code",
      "metadata": {
        "collapsed": true,
        "id": "1ryrgtqoueqN"
      },
      "source": [
        ""
      ],
      "execution_count": null,
      "outputs": []
    },
    {
      "cell_type": "markdown",
      "metadata": {
        "id": "dKWjz6bQueqN"
      },
      "source": [
        "Access the second element of this tuple."
      ]
    },
    {
      "cell_type": "code",
      "metadata": {
        "collapsed": true,
        "id": "kxmiQBboueqO"
      },
      "source": [
        ""
      ],
      "execution_count": null,
      "outputs": []
    },
    {
      "cell_type": "markdown",
      "metadata": {
        "id": "bzKS9q8nueqO"
      },
      "source": [
        "Call a method that would allow you to extract the provided name and age separately. Then print the \"name\" and \"age\" values to see if you worked correctly."
      ]
    },
    {
      "cell_type": "code",
      "metadata": {
        "id": "L_P6916CueqO"
      },
      "source": [
        "name, age = 'Peter,24'"
      ],
      "execution_count": null,
      "outputs": []
    },
    {
      "cell_type": "code",
      "metadata": {
        "collapsed": true,
        "id": "wnipnipIueqO"
      },
      "source": [
        ""
      ],
      "execution_count": null,
      "outputs": []
    },
    {
      "cell_type": "markdown",
      "metadata": {
        "id": "AZzUGWEPueqP"
      },
      "source": [
        "Create a function that takes as arguments the two values of a rectangle and then returns the Area and the Perimeter of the rectangle.\n",
        "Call the function with arguments 2 and 10 to verify it worked correctly."
      ]
    },
    {
      "cell_type": "code",
      "metadata": {
        "collapsed": true,
        "id": "q4DfIzeWueqP"
      },
      "source": [
        ""
      ],
      "execution_count": null,
      "outputs": []
    },
    {
      "cell_type": "markdown",
      "metadata": {
        "id": "gGnSiNKwueqP"
      },
      "source": [
        "## Dictionaries"
      ]
    },
    {
      "cell_type": "markdown",
      "metadata": {
        "id": "nAkduNv6ueqP"
      },
      "source": [
        "*Suggested Answers follow (usually there are multiple ways to solve a problem in Python).*"
      ]
    },
    {
      "cell_type": "markdown",
      "metadata": {
        "id": "5PUsmZSHueqP"
      },
      "source": [
        "This is the menu of a close-by restaurant:"
      ]
    },
    {
      "cell_type": "code",
      "metadata": {
        "id": "kboiP0xxueqP"
      },
      "source": [
        "Menu = {'meal_1':'Spaghetti', 'meal_2':'Fries', 'meal_3':'Hamburger', 'meal_4':'Lasagna'}"
      ],
      "execution_count": null,
      "outputs": []
    },
    {
      "cell_type": "markdown",
      "metadata": {
        "id": "jTjCLSrzueqQ"
      },
      "source": [
        "What is the second meal in the list?"
      ]
    },
    {
      "cell_type": "code",
      "metadata": {
        "collapsed": true,
        "id": "7AkhdrBTueqR"
      },
      "source": [
        ""
      ],
      "execution_count": null,
      "outputs": []
    },
    {
      "cell_type": "markdown",
      "metadata": {
        "id": "PWdDhfnHueqR"
      },
      "source": [
        "Add a new meal - \"Soup\"."
      ]
    },
    {
      "cell_type": "code",
      "metadata": {
        "collapsed": true,
        "id": "bStXLQPMueqR"
      },
      "source": [
        ""
      ],
      "execution_count": null,
      "outputs": []
    },
    {
      "cell_type": "markdown",
      "metadata": {
        "id": "-8rrmFYkueqR"
      },
      "source": [
        "Replace the Hamburger with a Cheeseburger."
      ]
    },
    {
      "cell_type": "code",
      "metadata": {
        "collapsed": true,
        "id": "Cnh97DBaueqR"
      },
      "source": [
        ""
      ],
      "execution_count": null,
      "outputs": []
    },
    {
      "cell_type": "markdown",
      "metadata": {
        "id": "y_hk-FBxueqR"
      },
      "source": [
        "Attach the Desserts list in the form of a sixth meal."
      ]
    },
    {
      "cell_type": "code",
      "metadata": {
        "id": "tJFpTF9iueqR"
      },
      "source": [
        "Dessert = ['Pancakes', 'Ice-cream', 'Tiramisu']"
      ],
      "execution_count": null,
      "outputs": []
    },
    {
      "cell_type": "code",
      "metadata": {
        "collapsed": true,
        "id": "GDrAuBn-ueqR"
      },
      "source": [
        ""
      ],
      "execution_count": null,
      "outputs": []
    },
    {
      "cell_type": "markdown",
      "metadata": {
        "id": "fzFucHvWueqS"
      },
      "source": [
        "Create a new dictionary that contains the first five meals as keys and assign the following five values as prices (in dollars):\n",
        "10, 5, 8, 12, 5. \n",
        "Start by *Price_list = {}*."
      ]
    },
    {
      "cell_type": "code",
      "metadata": {
        "collapsed": true,
        "id": "9XVB0itIueqS"
      },
      "source": [
        ""
      ],
      "execution_count": null,
      "outputs": []
    },
    {
      "cell_type": "markdown",
      "metadata": {
        "id": "4BEbEVBQueqT"
      },
      "source": [
        "Use the *.get()* method to check the price of the Spaghetti."
      ]
    },
    {
      "cell_type": "code",
      "metadata": {
        "collapsed": true,
        "id": "7BueSgVOueqT"
      },
      "source": [
        ""
      ],
      "execution_count": null,
      "outputs": []
    },
    {
      "cell_type": "markdown",
      "metadata": {
        "id": "YZdN0yHgueqT"
      },
      "source": [
        "<hr style=\"border:5px solid #108999\"> </hr>"
      ]
    },
    {
      "cell_type": "markdown",
      "metadata": {
        "id": "xJG--piwueqU"
      },
      "source": [
        "# Iteration <hr style=\"border:4.5px solid #108999\"> </hr>"
      ]
    },
    {
      "cell_type": "markdown",
      "metadata": {
        "id": "2rLmThtuueqU"
      },
      "source": [
        "## For Loops"
      ]
    },
    {
      "cell_type": "markdown",
      "metadata": {
        "id": "CfL3fqWjueqU"
      },
      "source": [
        "Create a For loop that prints every digit on a new line."
      ]
    },
    {
      "cell_type": "code",
      "metadata": {
        "collapsed": true,
        "id": "mqXPePRIueqU"
      },
      "source": [
        "digits = [0,1,2,3,4,5,6,7,8,9]"
      ],
      "execution_count": null,
      "outputs": []
    },
    {
      "cell_type": "code",
      "metadata": {
        "collapsed": true,
        "id": "nXvPGzK_ueqU"
      },
      "source": [
        ""
      ],
      "execution_count": null,
      "outputs": []
    },
    {
      "cell_type": "markdown",
      "metadata": {
        "id": "T3U08ydPueqV"
      },
      "source": [
        "Adjust the code, so the digits are all printed on the same line."
      ]
    },
    {
      "cell_type": "code",
      "metadata": {
        "collapsed": true,
        "id": "LEN8DLDIueqV"
      },
      "source": [
        ""
      ],
      "execution_count": null,
      "outputs": []
    },
    {
      "cell_type": "markdown",
      "metadata": {
        "id": "CZdVZTprueqW"
      },
      "source": [
        "## While Loops and Incrementing"
      ]
    },
    {
      "cell_type": "markdown",
      "metadata": {
        "id": "vNPpgUedueqW"
      },
      "source": [
        "*Suggested Answers follow (usually there are multiple ways to solve a problem in Python).*"
      ]
    },
    {
      "cell_type": "markdown",
      "metadata": {
        "id": "2wJPI2QWueqW"
      },
      "source": [
        "Create a while loop that will print all odd numbers from 0 to 30 on the same row. \n",
        "<br />\n",
        "*Hint: There are two ways in which you can create the odd values!*"
      ]
    },
    {
      "cell_type": "code",
      "metadata": {
        "collapsed": true,
        "id": "QyFuqoT_ueqX"
      },
      "source": [
        ""
      ],
      "execution_count": null,
      "outputs": []
    },
    {
      "cell_type": "markdown",
      "metadata": {
        "id": "-wzoh5PGueqX"
      },
      "source": [
        "## Create Lists with the range() Function"
      ]
    },
    {
      "cell_type": "markdown",
      "metadata": {
        "id": "70flf8iUueqX"
      },
      "source": [
        "Use the range() function to create a list with all numbers from 1 to 10."
      ]
    },
    {
      "cell_type": "code",
      "metadata": {
        "collapsed": true,
        "id": "a-dqmcdwueqX"
      },
      "source": [
        ""
      ],
      "execution_count": null,
      "outputs": []
    },
    {
      "cell_type": "markdown",
      "metadata": {
        "id": "xHB94lOAueqY"
      },
      "source": [
        "Use the range() function to create a list with all numbers from 0 to 19."
      ]
    },
    {
      "cell_type": "code",
      "metadata": {
        "collapsed": true,
        "id": "rIBjpjn9ueqZ"
      },
      "source": [
        ""
      ],
      "execution_count": null,
      "outputs": []
    },
    {
      "cell_type": "markdown",
      "metadata": {
        "id": "N7a4Q78zueqZ"
      },
      "source": [
        "Use the range function to create a list with all even numbers from 0 to 30 included."
      ]
    },
    {
      "cell_type": "code",
      "metadata": {
        "collapsed": true,
        "id": "P9TFxMo4ueqZ"
      },
      "source": [
        ""
      ],
      "execution_count": null,
      "outputs": []
    },
    {
      "cell_type": "markdown",
      "metadata": {
        "id": "dS_6s2e8ueqa"
      },
      "source": [
        "## Use Conditional Statements and Loops Together"
      ]
    },
    {
      "cell_type": "markdown",
      "metadata": {
        "id": "7BSas1G3ueqa"
      },
      "source": [
        "Create a For loop that will print all the variables from a given list multiplied by 2. Let the list contain all numbers from 1 to 10. Create it with the help of the range() function."
      ]
    },
    {
      "cell_type": "code",
      "metadata": {
        "collapsed": true,
        "id": "7zilDu37ueqa"
      },
      "source": [
        ""
      ],
      "execution_count": null,
      "outputs": []
    },
    {
      "cell_type": "markdown",
      "metadata": {
        "id": "AdAF21TGueqb"
      },
      "source": [
        "Create a little program that runs a loop over all values from 1 to 30. Let it print all Odd numbers, and in the place of the even numbers, it should print \"Even\".\n",
        "Help yourself with the range() function to solve this exercise."
      ]
    },
    {
      "cell_type": "code",
      "metadata": {
        "collapsed": true,
        "id": "UYVagn0Iueqb"
      },
      "source": [
        ""
      ],
      "execution_count": null,
      "outputs": []
    },
    {
      "cell_type": "markdown",
      "metadata": {
        "id": "R541J-6lueqc"
      },
      "source": [
        "You have the following list of numbers. Iterate over this list, printing out each list value multiplied by 10.\n",
        "Find two solutions of this problem."
      ]
    },
    {
      "cell_type": "code",
      "metadata": {
        "collapsed": true,
        "id": "0MqfKnRoueqc"
      },
      "source": [
        "n = [1,2,3,4,5,6]"
      ],
      "execution_count": null,
      "outputs": []
    },
    {
      "cell_type": "code",
      "metadata": {
        "collapsed": true,
        "id": "rPnmcGafueqd"
      },
      "source": [
        ""
      ],
      "execution_count": null,
      "outputs": []
    },
    {
      "cell_type": "code",
      "metadata": {
        "collapsed": true,
        "id": "IGHxOSGXueqd"
      },
      "source": [
        ""
      ],
      "execution_count": null,
      "outputs": []
    },
    {
      "cell_type": "markdown",
      "metadata": {
        "id": "8s84AC8mueqd"
      },
      "source": [
        "## All in - Conditional Statements, Functions, and Loops"
      ]
    },
    {
      "cell_type": "markdown",
      "metadata": {
        "id": "mJdqkxyhueqe"
      },
      "source": [
        "You are provided with the 'nums' list. Complete the code in the cell that follows. Use a while loop to count the number of values lower than 20. \n",
        "*Hint: This exercise is similar to what we did in the video lecture. You might prefer using the x[item] structure for indicating the value of an element from the list.*"
      ]
    },
    {
      "cell_type": "code",
      "metadata": {
        "collapsed": true,
        "id": "wagKQjCXueqe"
      },
      "source": [
        "nums = [1,12,24,31,51,70,100]"
      ],
      "execution_count": null,
      "outputs": []
    },
    {
      "cell_type": "code",
      "metadata": {
        "collapsed": true,
        "id": "2pmli06gueqf"
      },
      "source": [
        ""
      ],
      "execution_count": null,
      "outputs": []
    },
    {
      "cell_type": "markdown",
      "metadata": {
        "id": "A1Exg8RYueqf"
      },
      "source": [
        "## Iterating over Dictionaries"
      ]
    },
    {
      "cell_type": "markdown",
      "metadata": {
        "id": "pEH4hBWSueqg"
      },
      "source": [
        "In this exercise you will use the same dictionaries as the ones we used in the lesson - \"prices\" and \"quantity\". This time, don't just calculate all the money Jan spent. Calculate how much she spent on products with a price of 5 dollars or more."
      ]
    },
    {
      "cell_type": "code",
      "metadata": {
        "collapsed": true,
        "id": "-1jt1hj0ueqg"
      },
      "source": [
        "prices = {\n",
        "    \"box_of_spaghetti\" : 4,\n",
        "    \"lasagna\"  : 5,\n",
        "    \"hamburger\" : 2\n",
        "   }\n",
        "quantity = {\n",
        "    \"box_of_spaghetti\" : 6,\n",
        "    \"lasagna\"  : 10,\n",
        "    \"hamburger\" : 0\n",
        "    }\n",
        "\n",
        "money_spent = 0"
      ],
      "execution_count": null,
      "outputs": []
    },
    {
      "cell_type": "code",
      "metadata": {
        "collapsed": true,
        "id": "VVLc3OGhueqg"
      },
      "source": [
        ""
      ],
      "execution_count": null,
      "outputs": []
    },
    {
      "cell_type": "markdown",
      "metadata": {
        "id": "BKGQD4qHueqi"
      },
      "source": [
        "And how much did Jan spent on products that cost less than 5 dollars?"
      ]
    },
    {
      "cell_type": "code",
      "metadata": {
        "collapsed": true,
        "id": "6l6nk3gwueqi"
      },
      "source": [
        "prices = {\n",
        "    \"box_of_spaghetti\" : 4,\n",
        "    \"lasagna\"  : 5,\n",
        "    \"hamburger\" : 2\n",
        "   }\n",
        "quantity = {\n",
        "    \"box_of_spaghetti\" : 6,\n",
        "    \"lasagna\"  : 10,\n",
        "    \"hamburger\" : 0\n",
        "    }\n",
        "\n",
        "money_spent = 0"
      ],
      "execution_count": null,
      "outputs": []
    },
    {
      "cell_type": "code",
      "metadata": {
        "collapsed": true,
        "id": "Y_4MAEqGueqi"
      },
      "source": [
        ""
      ],
      "execution_count": null,
      "outputs": []
    }
  ]
}